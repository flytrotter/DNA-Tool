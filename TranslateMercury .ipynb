{
 "cells": [
  {
   "cell_type": "code",
   "execution_count": 132,
   "id": "f741463d",
   "metadata": {},
   "outputs": [
    {
     "data": {
      "application/mercury+json": "{\n    \"widget\": \"App\",\n    \"title\": \"DNA Tool\\ud83e\\uddec\",\n    \"description\": \"Transcript and translate your DNA sequence. Made for IBES @ Lawrenceville\",\n    \"show_code\": true,\n    \"show_prompt\": false,\n    \"output\": \"app\",\n    \"schedule\": \"\",\n    \"notify\": \"{}\",\n    \"continuous_update\": true,\n    \"static_notebook\": false,\n    \"show_sidebar\": true,\n    \"full_screen\": true,\n    \"allow_download\": true,\n    \"model_id\": \"mercury-app\",\n    \"code_uid\": \"App.0.40.24.4-rand50ae1f04\"\n}",
      "text/html": [
       "<h3>Mercury Application</h3><small>This output won't appear in the web app.</small>"
      ],
      "text/plain": [
       "mercury.App"
      ]
     },
     "metadata": {},
     "output_type": "display_data"
    },
    {
     "data": {
      "application/mercury+json": "{\n    \"widget\": \"Text\",\n    \"value\": \"ATGCCT\",\n    \"rows\": 1,\n    \"label\": \"DNA Sequence\",\n    \"model_id\": \"0624120e82b948d8a28b1972c30abc28\",\n    \"code_uid\": \"Text.0.40.15.13-randc4c40653\",\n    \"url_key\": \"\",\n    \"disabled\": false,\n    \"hidden\": false\n}",
      "application/vnd.jupyter.widget-view+json": {
       "model_id": "0624120e82b948d8a28b1972c30abc28",
       "version_major": 2,
       "version_minor": 0
      },
      "text/plain": [
       "mercury.Text"
      ]
     },
     "metadata": {},
     "output_type": "display_data"
    }
   ],
   "source": [
    "import mercury as mr\n",
    " \n",
    "# set Application parameters\n",
    "app = mr.App(title=\"DNA Tool🧬\",\n",
    "        description=\"Transcript and translate your DNA sequence. Made for IBES @ Lawrenceville\",\n",
    "        show_code=True,\n",
    "        show_prompt=False,\n",
    "        continuous_update=True,\n",
    "        static_notebook=False,\n",
    "        show_sidebar=True,\n",
    "        full_screen=True,\n",
    "        allow_download=True)\n",
    "DNAstr = mr.Text(value=\"ATGCCT\", label=\"DNA Sequence\", rows=1)"
   ]
  },
  {
   "cell_type": "code",
   "execution_count": 128,
   "id": "8318ba11",
   "metadata": {},
   "outputs": [],
   "source": [
    "transcript_code = {\"A\":\"U\", \"T\":\"A\", \"G\":\"C\",\"C\":\"G\"}\n",
    "codonToAmino={'UUU':'Phe','UUC':'Phe','UUA':'Leu','UUG':'Leu','CUU':'Leu','CUC':'Leu','CUA':'Leu','CUG':'Leu','AUU':'Ile','AUC':'Ile','AUA':'Ile','AUG':'Met','GUU':'Val','GUC':'Val','GUA':'Val','GUG':'Val','UCU':'Ser','UCC':'Ser','UCA':'Ser','UCG':'Ser','CCU':'Pro','CCC':'Pro','CCA':'Pro','CCG':'Pro','ACU':'Thr','ACC':'Thr','ACA':'Thr','ACG':'Thr','GCU':'Ala','GCC':'Ala','GCA':'Ala','GCG':'Ala','UAU':'Tyr','UAC':'Tyr','UAA':'STOP','UAG':'STOP','CAU':'His','CAC':'His','CAA':'Gln','CAG':'Gln','AAU':'Asn','AAC':'Asn','AAA':'Lys','AAG':'Lys','GAU':'Asp','GAC':'Asp','GAA':'Glu','GAG':'Glu','UGU':'Cys','UGC':'Cys','UGA':'STOP','UGG':'Trp','CGU':'Arg','CGC':'Arg','CGA':'Arg','CGG':'Arg','AGU':'Ser','AGC':'Ser','AGA':'Arg','AGG':'Arg','GGU':'Gly','GGC':'Gly','GGA':'Gly','GGG':'Gly'}\n",
    "allowed_code = \"ATGC\"\n",
    "#transcription function:"
   ]
  },
  {
   "cell_type": "code",
   "execution_count": 129,
   "id": "cfacdb4c",
   "metadata": {},
   "outputs": [],
   "source": [
    "def transcriptCode(DNAstr):\n",
    "    if all(ch in allowed_code for ch in DNAstrMain) == True:\n",
    "        mRNA = ''\n",
    "        for char in DNAstrMain:\n",
    "            mRNA += transcript_code[char]\n",
    "        createCodon(mRNA)"
   ]
  },
  {
   "cell_type": "code",
   "execution_count": 130,
   "id": "b4caba0f",
   "metadata": {},
   "outputs": [],
   "source": [
    "def createCodon(mRNA):\n",
    "    if mRNA%3 =! 0:\n",
    "        remainder= mRNA%3 \n",
    "        mRNA = mRNA[]\n",
    "    protein = []\n",
    "    for i in range(0, len(mRNA), 3):\n",
    "        codon = mRNA[i:i+3]\n",
    "        protein.append(codonToAmino[codon])\n",
    "    print(protein)    "
   ]
  },
  {
   "cell_type": "code",
   "execution_count": 133,
   "id": "19845e1c",
   "metadata": {},
   "outputs": [
    {
     "name": "stdout",
     "output_type": "stream",
     "text": [
      "['Tyr', 'Gly']\n"
     ]
    }
   ],
   "source": [
    "DNAstrMain = DNAstr.value\n",
    "transcriptCode(DNAstrMain)"
   ]
  },
  {
   "cell_type": "code",
   "execution_count": 94,
   "id": "0fd32b93",
   "metadata": {},
   "outputs": [
    {
     "data": {
      "text/plain": [
       "[]"
      ]
     },
     "execution_count": 94,
     "metadata": {},
     "output_type": "execute_result"
    }
   ],
   "source": []
  }
 ],
 "metadata": {
  "kernelspec": {
   "display_name": "Python 3 (ipykernel)",
   "language": "python",
   "name": "python3"
  },
  "language_info": {
   "codemirror_mode": {
    "name": "ipython",
    "version": 3
   },
   "file_extension": ".py",
   "mimetype": "text/x-python",
   "name": "python",
   "nbconvert_exporter": "python",
   "pygments_lexer": "ipython3",
   "version": "3.9.13"
  }
 },
 "nbformat": 4,
 "nbformat_minor": 5
}
