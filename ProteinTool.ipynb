{
 "cells": [
  {
   "cell_type": "code",
   "execution_count": 64,
   "id": "33015842",
   "metadata": {},
   "outputs": [
    {
     "data": {
      "application/mercury+json": "{\n    \"widget\": \"Text\",\n    \"value\": \"ATGC\",\n    \"rows\": 1,\n    \"label\": \"DNA SEQUENCE\",\n    \"model_id\": \"2dc5f1b2a7614b4fa2bbacb3f11e0ce8\",\n    \"code_uid\": \"Text.0.40.15.2-rand7581b742\",\n    \"url_key\": \"\",\n    \"disabled\": false,\n    \"hidden\": false\n}",
      "application/vnd.jupyter.widget-view+json": {
       "model_id": "2dc5f1b2a7614b4fa2bbacb3f11e0ce8",
       "version_major": 2,
       "version_minor": 0
      },
      "text/plain": [
       "mercury.Text"
      ]
     },
     "metadata": {},
     "output_type": "display_data"
    }
   ],
   "source": [
    "import mercury as mr\n",
    "DNAstr = mr.Text(value=\"ATGC\", label=\"DNA SEQUENCE\")"
   ]
  },
  {
   "cell_type": "code",
   "execution_count": 65,
   "id": "de83e3ec",
   "metadata": {},
   "outputs": [
    {
     "name": "stdout",
     "output_type": "stream",
     "text": [
      "DNA sequence: ATGC\n"
     ]
    }
   ],
   "source": [
    "#transcription dictionary\n",
    "transcript_code = {\"A\": \"U\", \"T\": \"A\", \"G\":\"c\",\"C\": \"G\"}\n",
    "codonToAmino={'UUU':'Phe','UUC':'Phe','UUA':'Leu','UUG':'Leu','CUU':'Leu','CUC':'Leu','CUA':'Leu','CUG':'Leu','AUU':'Ile','AUC':'Ile','AUA':'Ile','AUG':'Met','GUU':'Val','GUC':'Val','GUA':'Val','GUG':'Val','UCU':'Ser','UCC':'Ser','UCA':'Ser','UCG':'Ser','CCU':'Pro','CCC':'Pro','CCA':'Pro','CCG':'Pro','ACU':'Thr','ACC':'Thr','ACA':'Thr','ACG':'Thr','GCU':'Ala','GCC':'Ala','GCA':'Ala','GCG':'Ala','UAU':'Tyr','UAC':'Tyr','UAA':'STOP','UAG':'STOP','CAU':'His','CAC':'His','CAA':'Gln','CAG':'Gln','AAU':'Asn','AAC':'Asn','AAA':'Lys','AAG':'Lys','GAU':'Asp','GAC':'Asp','GAA':'Glu','GAG':'Glu','UGU':'Cys','UGC':'Cys','UGA':'STOP','UGG':'Trp','CGU':'Arg','CGC':'Arg','CGA':'Arg','CGG':'Arg','AGU':'Ser','AGC':'Ser','AGA':'Arg','AGG':'Arg','GGU':'Gly','GGC':'Gly','GGA':'Gly','GGG':'Gly'}\n",
    "allowed_code = \"ATGC\"\n",
    "#transcription function:\n",
    "DNAstr2 = DNAstr.value\n",
    "protein = []\n",
    "\n",
    "\n",
    "# # def translateCode(mRNA):\n",
    "#     for i in range(0, len(mRNA), 3):\n",
    "#         codon = mRNA[i:i+3]\n",
    "#         protein.append(codonToAmino[codon])\n",
    "#     print(protein)\n",
    "    \n"
   ]
  },
  {
   "cell_type": "code",
   "execution_count": 69,
   "id": "a4466be2",
   "metadata": {},
   "outputs": [],
   "source": [
    "def transcriptCode(DNAstr2):\n",
    "    if all(ch in allowed_code for ch in DNAstr2) == True:\n",
    "        print(DNAstr2)\n",
    "        for code in transcript_code:\n",
    "            DNAstr2 = DNAstr2.replace(code, transcript_code[code])\n",
    "        mRNA = DNAstr2.upper()\n",
    "        print(f\"Transcripted mRNA: {mRNA}\")\n",
    "        print(f\"DNA sequence: {DNAstr.value}\")\n"
   ]
  },
  {
   "cell_type": "code",
   "execution_count": 23,
   "id": "e510896b",
   "metadata": {},
   "outputs": [],
   "source": [
    "# #translation function #2: \n",
    "# def createCodon(mRNA):\n",
    "#     protein = []\n",
    "#     for i in range(0, len(mRNA), 3):\n",
    "#         codon = mRNA[i:i+3]\n",
    "#         protein.append(codonToAmino[codon])\n",
    "#     print(protein)"
   ]
  },
  {
   "cell_type": "code",
   "execution_count": null,
   "id": "0a07467f",
   "metadata": {},
   "outputs": [],
   "source": [
    "\n"
   ]
  },
  {
   "cell_type": "code",
   "execution_count": 6,
   "id": "cd2f53dc",
   "metadata": {},
   "outputs": [],
   "source": [
    "#CODE GRAVEYARD:\n",
    "\n",
    "#Breaking the string into codons for translation OTHER WAY \n",
    "# n = 3\n",
    "# def createCodon(mRNA):\n",
    "#     codons = [mRNA[i:i+n] for i in range(0, len(mRNA), n)]\n",
    "#     print(codons)\n",
    "# #Matching codons to dictionary amino acids\n",
    "# def matchCodon(codons):\n",
    "#     polypeptideChain = codons.copy()\n",
    "#     for codon in codonToAmino:\n",
    "#         for code in transcript_code:\n",
    "#             DNAstr = DNAstr.replace(code, transcript_code[code])\n",
    "#         polypeptideChain = polypeptideChain.replace(codon)\n",
    "        "
   ]
  }
 ],
 "metadata": {
  "kernelspec": {
   "display_name": "Python 3 (ipykernel)",
   "language": "python",
   "name": "python3"
  },
  "language_info": {
   "codemirror_mode": {
    "name": "ipython",
    "version": 3
   },
   "file_extension": ".py",
   "mimetype": "text/x-python",
   "name": "python",
   "nbconvert_exporter": "python",
   "pygments_lexer": "ipython3",
   "version": "3.9.13"
  }
 },
 "nbformat": 4,
 "nbformat_minor": 5
}
